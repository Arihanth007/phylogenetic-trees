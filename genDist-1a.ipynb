{
 "cells": [
  {
   "cell_type": "code",
   "execution_count": 1,
   "metadata": {},
   "outputs": [],
   "source": [
    "import re\n",
    "import numpy as np\n",
    "import pandas as pd"
   ]
  },
  {
   "cell_type": "code",
   "execution_count": 2,
   "metadata": {},
   "outputs": [],
   "source": [
    "seqs = open(\"Nucleotide_alignment.txt\", \"r\")"
   ]
  },
  {
   "cell_type": "code",
   "execution_count": 3,
   "metadata": {},
   "outputs": [],
   "source": [
    "fname = \"Nucleotide_alignment.txt\"\n",
    "ar = np.loadtxt(fname, delimiter=\"\\t\", dtype='str')"
   ]
  },
  {
   "cell_type": "code",
   "execution_count": 4,
   "metadata": {},
   "outputs": [],
   "source": [
    "dna = []\n",
    "for i in range(ar.shape[0]):\n",
    "    if ar[i][0] != \">\":\n",
    "        dna.append([ar[i][j] for j in range(len(ar[i]))])"
   ]
  },
  {
   "cell_type": "code",
   "execution_count": 5,
   "metadata": {},
   "outputs": [
    {
     "name": "stderr",
     "output_type": "stream",
     "text": [
      "<ipython-input-5-256123a3477c>:1: VisibleDeprecationWarning: Creating an ndarray from ragged nested sequences (which is a list-or-tuple of lists-or-tuples-or ndarrays with different lengths or shapes) is deprecated. If you meant to do this, you must specify 'dtype=object' when creating the ndarray\n",
      "  dna = np.array(dna)\n"
     ]
    },
    {
     "data": {
      "text/plain": [
       "100"
      ]
     },
     "execution_count": 5,
     "metadata": {},
     "output_type": "execute_result"
    }
   ],
   "source": [
    "dna = np.array(dna)\n",
    "dna.shape[0]"
   ]
  },
  {
   "cell_type": "code",
   "execution_count": 6,
   "metadata": {
    "tags": []
   },
   "outputs": [],
   "source": [
    "final = []\n",
    "start = 0\n",
    "end = 10\n",
    "\n",
    "while end <= dna.shape[0]:\n",
    "    temp = []\n",
    "    for i in range(start, end):\n",
    "        for j in range(len(dna[i])):\n",
    "            temp.append(dna[i][j])\n",
    "    temp = np.array(temp)\n",
    "    final.append(temp)\n",
    "    start = start + 10\n",
    "    end = end + 10\n",
    "\n",
    "final = np.array(final)"
   ]
  },
  {
   "cell_type": "code",
   "execution_count": 7,
   "metadata": {
    "tags": []
   },
   "outputs": [],
   "source": [
    "# for i in range(len(final)):\n",
    "#     print(final[i])"
   ]
  },
  {
   "cell_type": "code",
   "execution_count": 8,
   "metadata": {
    "tags": []
   },
   "outputs": [
    {
     "name": "stdout",
     "output_type": "stream",
     "text": [
      "G\n"
     ]
    }
   ],
   "source": [
    "print(final[0][2])"
   ]
  },
  {
   "cell_type": "code",
   "execution_count": 9,
   "metadata": {
    "tags": []
   },
   "outputs": [
    {
     "name": "stdout",
     "output_type": "stream",
     "text": [
      "[0, 0, 0, 0, 0, 0, 0, 0, 0, 0]\n",
      "[0, 0, 0, 0, 0, 0, 0, 0, 0, 0]\n",
      "[0, 0, 0, 0, 0, 0, 0, 0, 0, 0]\n",
      "[0, 0, 0, 0, 0, 0, 0, 0, 0, 0]\n",
      "[0, 0, 0, 0, 0, 0, 0, 0, 0, 0]\n",
      "[0, 0, 0, 0, 0, 0, 0, 0, 0, 0]\n",
      "[0, 0, 0, 0, 0, 0, 0, 0, 0, 0]\n",
      "[0, 0, 0, 0, 0, 0, 0, 0, 0, 0]\n",
      "[0, 0, 0, 0, 0, 0, 0, 0, 0, 0]\n",
      "[0, 0, 0, 0, 0, 0, 0, 0, 0, 0]\n"
     ]
    }
   ],
   "source": [
    "mat = [[0 for i in range(10)] for j in range(10)]\n",
    "for i in range(len(mat)):\n",
    "    print(mat[i])"
   ]
  },
  {
   "cell_type": "code",
   "execution_count": 10,
   "metadata": {
    "tags": []
   },
   "outputs": [],
   "source": [
    "def find_dist(m, n):\n",
    "    count = 0\n",
    "    for i in range(len(final[0])):\n",
    "        if final[m][i] != final[n][i]:\n",
    "            count += 1\n",
    "    count /= len(final[0])\n",
    "    return count"
   ]
  },
  {
   "cell_type": "code",
   "execution_count": 11,
   "metadata": {
    "tags": []
   },
   "outputs": [],
   "source": [
    "for x in range(10):\n",
    "    for y in range(10):\n",
    "        mat[x][y] = find_dist(x, y)"
   ]
  },
  {
   "cell_type": "code",
   "execution_count": 12,
   "metadata": {
    "scrolled": true,
    "tags": []
   },
   "outputs": [
    {
     "name": "stdout",
     "output_type": "stream",
     "text": [
      "[0.0, 0.5739750445632799, 0.6737967914438503, 0.6452762923351159, 0.6327985739750446, 0.6292335115864528, 0.6506238859180036, 0.6096256684491979, 0.6773618538324421, 0.6737967914438503]\n",
      "[0.5739750445632799, 0.0, 0.5543672014260249, 0.5276292335115864, 0.5151515151515151, 0.5276292335115864, 0.5151515151515151, 0.5026737967914439, 0.5739750445632799, 0.5418894830659536]\n",
      "[0.6737967914438503, 0.5543672014260249, 0.0, 0.38324420677361853, 0.3761140819964349, 0.3333333333333333, 0.35472370766488415, 0.3868092691622103, 0.36363636363636365, 0.3511586452762923]\n",
      "[0.6452762923351159, 0.5276292335115864, 0.38324420677361853, 0.0, 0.3226381461675579, 0.35294117647058826, 0.22281639928698752, 0.35294117647058826, 0.32798573975044565, 0.2531194295900178]\n",
      "[0.6327985739750446, 0.5151515151515151, 0.3761140819964349, 0.3226381461675579, 0.0, 0.32620320855614976, 0.30124777183600715, 0.3600713012477718, 0.34581105169340465, 0.28698752228163993]\n",
      "[0.6292335115864528, 0.5276292335115864, 0.3333333333333333, 0.35294117647058826, 0.32620320855614976, 0.0, 0.3244206773618538, 0.2709447415329768, 0.2816399286987522, 0.33511586452762926]\n",
      "[0.6506238859180036, 0.5151515151515151, 0.35472370766488415, 0.22281639928698752, 0.30124777183600715, 0.3244206773618538, 0.0, 0.31194295900178254, 0.2887700534759358, 0.22994652406417113]\n",
      "[0.6096256684491979, 0.5026737967914439, 0.3868092691622103, 0.35294117647058826, 0.3600713012477718, 0.2709447415329768, 0.31194295900178254, 0.0, 0.31194295900178254, 0.3422459893048128]\n",
      "[0.6773618538324421, 0.5739750445632799, 0.36363636363636365, 0.32798573975044565, 0.34581105169340465, 0.2816399286987522, 0.2887700534759358, 0.31194295900178254, 0.0, 0.1586452762923351]\n",
      "[0.6737967914438503, 0.5418894830659536, 0.3511586452762923, 0.2531194295900178, 0.28698752228163993, 0.33511586452762926, 0.22994652406417113, 0.3422459893048128, 0.1586452762923351, 0.0]\n"
     ]
    }
   ],
   "source": [
    "for i in range(len(mat)):\n",
    "    print(mat[i])"
   ]
  },
  {
   "cell_type": "code",
   "execution_count": 13,
   "metadata": {},
   "outputs": [],
   "source": [
    "res = {idx + 1 : mat[idx] for idx in range(len(mat))} "
   ]
  },
  {
   "cell_type": "code",
   "execution_count": 14,
   "metadata": {},
   "outputs": [],
   "source": [
    "pd.DataFrame(res).to_csv(\"Ndistance.txt\")"
   ]
  },
  {
   "cell_type": "code",
   "execution_count": null,
   "metadata": {},
   "outputs": [],
   "source": []
  }
 ],
 "metadata": {
  "kernelspec": {
   "display_name": "Python 3",
   "language": "python",
   "name": "python3"
  },
  "language_info": {
   "codemirror_mode": {
    "name": "ipython",
    "version": 3
   },
   "file_extension": ".py",
   "mimetype": "text/x-python",
   "name": "python",
   "nbconvert_exporter": "python",
   "pygments_lexer": "ipython3",
   "version": "3.8.5"
  }
 },
 "nbformat": 4,
 "nbformat_minor": 2
}
