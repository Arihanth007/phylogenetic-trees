{
 "cells": [
  {
   "cell_type": "code",
   "execution_count": 1,
   "metadata": {},
   "outputs": [],
   "source": [
    "import numpy as np\n",
    "import pandas as pd\n",
    "from math import inf"
   ]
  },
  {
   "cell_type": "code",
   "execution_count": 2,
   "metadata": {},
   "outputs": [],
   "source": [
    "# Separates the sequences line by line\n",
    "def convert_to_seq(ar):\n",
    "    dna = []\n",
    "    number_of_items = 0\n",
    "    for i in range(ar.shape[0]):\n",
    "        if ar[i][0] != \">\":\n",
    "            dna.append([ar[i][j] for j in range(len(ar[i]))])\n",
    "        else:\n",
    "            number_of_items += 1\n",
    "    return np.array(dna, dtype=object), number_of_items\n",
    "\n",
    "\n",
    "# combines all lines of the same sequence\n",
    "def form_complete_seq(dna, n):\n",
    "    final = []\n",
    "    start = 0\n",
    "    inc = int(len(dna) / n)\n",
    "    end = inc\n",
    "\n",
    "    while end <= dna.shape[0]:\n",
    "        temp = []\n",
    "        for i in range(start, end):\n",
    "            for j in range(len(dna[i])):\n",
    "                temp.append(dna[i][j])\n",
    "        temp = np.array(temp)\n",
    "        final.append(temp)\n",
    "        start = start + inc\n",
    "        end = end + inc\n",
    "\n",
    "    return np.array(final)\n",
    "\n",
    "\n",
    "# calculates score for using BLOSUM62.txt matrix\n",
    "def find_score(a, b, dmat):\n",
    "    x = 0\n",
    "    y = 0\n",
    "    if a == \"-\":\n",
    "        a = \"*\"\n",
    "    if b == \"-\":\n",
    "        b = \"*\"\n",
    "    \n",
    "    if (a == \"-\" and b != \"-\") or (a != \"-\" and b == \"-\"):\n",
    "        return (0, True)\n",
    "        \n",
    "    \n",
    "    for i in range(dmat.shape[0]):\n",
    "        if a == dmat[0][i]:\n",
    "            x = i\n",
    "        if b == dmat[0][i]:\n",
    "            y = i\n",
    "    return (dmat[x][y], False)\n",
    "\n",
    "\n",
    "# finds the similarity between two given sequences\n",
    "# using BLOSUM62.txt values\n",
    "def find_dist2(m, n, final, dmat):\n",
    "    # here m, n = seq1, seq2\n",
    "    count = 0\n",
    "    isprev = False\n",
    "\n",
    "    for i in range(len(final[m])):\n",
    "        temp, iscurrent = find_score(final[m][i], final[n][i], dmat)\n",
    "        if isprev == False and iscurrent == True:\n",
    "            count -= 11\n",
    "            isprev = True\n",
    "        elif isprev == True and iscurrent == True:\n",
    "            count -= 1\n",
    "        elif iscurrent == False:\n",
    "            count += int(temp)\n",
    "            isprev = False\n",
    "    return count\n",
    "\n",
    "\n",
    "# finds the similarity between two given sequences \n",
    "def find_dist(m, n, final):\n",
    "    count = 0\n",
    "    \n",
    "    for i in range(len(final[0])):\n",
    "        if final[m][i] != final[n][i]:\n",
    "            count += 1     \n",
    "    count /= len(final[0])\n",
    "    return count\n",
    "\n",
    "\n",
    "# for task 2\n",
    "def generate_dist_matrix2(final, k, dmat):\n",
    "    mat = [[0 for i in range(k)] for j in range(k)]\n",
    "    \n",
    "    # here x, y = seq1, seq2\n",
    "    for x in range(k):\n",
    "        for y in range(k):\n",
    "            mat[x][y] = find_dist2(x, y, final, dmat)\n",
    "            \n",
    "    return np.array(mat)\n",
    "\n",
    "\n",
    "# for task 1\n",
    "def generate_dist_matrix(final, k):\n",
    "    mat = [[0 for i in range(k)] for j in range(k)]\n",
    "\n",
    "    # here x, y = seq1, seq2\n",
    "    for x in range(k):\n",
    "        for y in range(k):\n",
    "            mat[x][y] = find_dist(x, y, final)\n",
    "            \n",
    "    return np.array(mat)"
   ]
  },
  {
   "cell_type": "code",
   "execution_count": 3,
   "metadata": {},
   "outputs": [],
   "source": [
    "# copies the content from the dataframe - mat \n",
    "# to an array that it creates - new_mat\n",
    "def copy_to_arr(mat):\n",
    "    new_mat = np.array([[0.0 for i in range(len(mat))] for j in range(len(mat))])\n",
    "    for i in range(len(mat)):\n",
    "        for j in range(len(mat)):\n",
    "            if i > j:\n",
    "                new_mat[i][j] = mat.iloc[i, j]\n",
    "    return (new_mat)\n",
    "\n",
    "\n",
    "# finds the min value using the matrix it generated above\n",
    "def find_min(new_mat):\n",
    "        x = 0\n",
    "        y = 0\n",
    "        minVal = inf\n",
    "\n",
    "        for i in range(new_mat.shape[0]):\n",
    "            for j in range(i+1):\n",
    "                if new_mat[i][j] <= minVal and new_mat[i][j] != 0:\n",
    "                    minVal = new_mat[i][j]\n",
    "                    x = i\n",
    "                    y = j\n",
    "                    \n",
    "        return (x, y, minVal)\n",
    "    \n",
    "\n",
    "# finds the min value using the matrix it generated above\n",
    "def find_max(new_mat):\n",
    "        x = 0\n",
    "        y = 0\n",
    "        maxVal = -inf\n",
    "\n",
    "        for i in range(new_mat.shape[0]):\n",
    "            for j in range(i+1):\n",
    "                if new_mat[i][j] >= maxVal and new_mat[i][j] != 0:\n",
    "                    maxVal = new_mat[i][j]\n",
    "                    x = i\n",
    "                    y = j\n",
    "                    \n",
    "        return (x, y, maxVal)\n",
    "    \n",
    "    \n",
    "# deletes the two rows and columns and generates a new columnn\n",
    "# in the place of the min(row, col)\n",
    "# using UPGMA method\n",
    "def upgma(new_mat, x, y):\n",
    "    pivot = min(x, y)\n",
    "    for j in range(0, pivot):\n",
    "        if new_mat[max(x, y)][j] != 0:\n",
    "            new_mat[pivot][j] = (new_mat[pivot][j] + new_mat[max(x, y)][j]) / 2\n",
    "        else:\n",
    "            new_mat[pivot][j] = (new_mat[pivot][j] + new_mat[j][max(x, y)]) / 2\n",
    "    \n",
    "    for i in range(pivot+1, new_mat.shape[0]):\n",
    "        if new_mat[max(x, y)][i] != 0:\n",
    "            new_mat[i][pivot] = (new_mat[i][pivot] + new_mat[max(x, y)][i]) / 2\n",
    "        else:\n",
    "            new_mat[i][pivot] = (new_mat[i][pivot] + new_mat[i][max(x, y)]) / 2\n",
    "                                 \n",
    "    return (new_mat, min(x, y), max(x, y))\n",
    "\n",
    "\n",
    "# after the above calculations\n",
    "# it copies the contents of the array - new_mat\n",
    "# into the datafram - mat\n",
    "def copy_to_df(new_mat, mat):              \n",
    "    for i in range(new_mat.shape[0]):\n",
    "        for j in range(new_mat.shape[0]):\n",
    "                mat.iloc[i, j] = new_mat[i][j]\n",
    "    return (mat)\n",
    "\n",
    "\n",
    "# it drops the higher index row and column\n",
    "# i.e max(x, y)\n",
    "def drop_extra(mat, drop_val):\n",
    "    temp = mat.drop([str(drop_val)], axis = 1)\n",
    "    temp = temp.drop([str(drop_val)])\n",
    "    return(temp)\n",
    "\n",
    "\n",
    "# we now have a matrix of order n-1*n-1\n",
    "# renames the merged rows, columns\n",
    "def rename_merged(temp, merge_val, drop_val):\n",
    "    temp = temp.rename(columns={str(merge_val): str(merge_val)+','+str(drop_val)})\n",
    "    temp = temp.rename(index={str(merge_val): str(merge_val)+','+str(drop_val)})\n",
    "    return (temp)"
   ]
  },
  {
   "cell_type": "code",
   "execution_count": 4,
   "metadata": {},
   "outputs": [],
   "source": [
    "# automates the process sequentially \n",
    "def to_do(mat, ans, part):\n",
    "    \n",
    "    # copies data from the dataframe\n",
    "    # into a 2D numpy array\n",
    "    new_mat = copy_to_arr(mat)\n",
    "\n",
    "    # finds min value in part-1\n",
    "    # finds max value in part-2\n",
    "    # the variable is called min_val in both cases for ease\n",
    "    if part == 1:\n",
    "        x, y, min_val = find_min(new_mat)\n",
    "    elif part == 2:\n",
    "        x, y, min_val = find_max(new_mat)\n",
    "\n",
    "    # actual logic of UPGMA runs here\n",
    "    new_mat, merge_val, drop_val = upgma(new_mat, x, y)\n",
    "\n",
    "    # after calculations the info is \n",
    "    # copied back into the dataframe\n",
    "    # finds index of row, col to be dropped\n",
    "    mat = copy_to_df(new_mat, mat)\n",
    "    merge_val = mat.columns[merge_val]\n",
    "    drop_val = mat.columns[drop_val]\n",
    "    \n",
    "    # ans contains the clubbing at every step\n",
    "    ans.append([merge_val, drop_val, \"{0:.3f}\".format(min_val/2)])\n",
    "\n",
    "    # order of the dataframe matrix\n",
    "    # is reduced\n",
    "    mat = drop_extra(mat, drop_val)\n",
    "    mat = rename_merged(mat, merge_val, drop_val)\n",
    "    return (mat, ans)"
   ]
  },
  {
   "cell_type": "code",
   "execution_count": 5,
   "metadata": {},
   "outputs": [],
   "source": [
    "def part_1():\n",
    "    \n",
    "    # loads the information from files\n",
    "    fname = \"Nucleotide_alignment.txt\"\n",
    "    ar = np.loadtxt(fname, delimiter=\"\\t\", dtype='str')\n",
    "    \n",
    "    # generates the final distance output\n",
    "    dna, n = convert_to_seq(ar)\n",
    "    final = form_complete_seq(dna, n)\n",
    "    mat = generate_dist_matrix(final, n)\n",
    "    \n",
    "    # converts it to a dictionary \n",
    "    # and exports it as a csv file\n",
    "    res = {idx + 1 : mat[idx] for idx in range(len(mat))} \n",
    "    file_name = \"Ndistance.txt\"\n",
    "    pd.DataFrame(res).to_csv(file_name)\n",
    "    \n",
    "    return (file_name)"
   ]
  },
  {
   "cell_type": "code",
   "execution_count": 6,
   "metadata": {},
   "outputs": [],
   "source": [
    "def part_2():\n",
    "    \n",
    "    # loads the information from files\n",
    "    fname = \"Protein_alignment.txt\"\n",
    "    fname2 = \"BLOSUM62.txt\"\n",
    "    ar = np.loadtxt(fname, delimiter=\"\\t\", dtype='str')\n",
    "    ar2 = np.loadtxt(fname2, dtype='str')\n",
    "    \n",
    "    # dmat is the input distance matrix\n",
    "    # from BLOSUM62.txt\n",
    "    dmat, m = convert_to_seq(ar2)\n",
    "\n",
    "    # generates the final distance output\n",
    "    protein_seq, n = convert_to_seq(ar)\n",
    "    final = form_complete_seq(protein_seq, n)\n",
    "    dist_matrix = generate_dist_matrix2(final, n, dmat)\n",
    "\n",
    "    # converts it to a dictionary \n",
    "    # and exports it as a csv file\n",
    "    res = {idx + 1 : dist_matrix[idx] for idx in range(len(dist_matrix))} \n",
    "    file_name = \"Pdistance.txt\"\n",
    "    pd.DataFrame(res).to_csv(file_name)\n",
    "    \n",
    "    return (file_name)"
   ]
  },
  {
   "cell_type": "code",
   "execution_count": 7,
   "metadata": {},
   "outputs": [],
   "source": [
    "# generates the phylogenetic relationship \n",
    "def gen_tree(fname, part):\n",
    "    \n",
    "    mat = pd.read_csv(fname)\n",
    "    \n",
    "    # manipulates the names of rows and columns\n",
    "    mat = mat.drop(['Unnamed: 0'], axis=1)\n",
    "    for col in mat.columns: \n",
    "        mat = mat.rename(columns={col : str(int(col)-1)})\n",
    "    disp_mat = mat\n",
    "    for idx in mat.index:\n",
    "        mat = mat.rename(index={idx : str(idx)})\n",
    "    \n",
    "    # ans stores step by step clubbing \n",
    "    # of two columns\n",
    "    ans = []\n",
    "    while len(mat) > 1:\n",
    "        mat, ans = to_do(mat, ans, part)\n",
    "    \n",
    "    return(ans, disp_mat)"
   ]
  },
  {
   "cell_type": "code",
   "execution_count": 8,
   "metadata": {},
   "outputs": [],
   "source": [
    "# formats it to the Newick form\n",
    "def convert_to_newick(ans):\n",
    "    new_dict = {}\n",
    "\n",
    "    for row in ans:\n",
    "        temp = row[0] + \",\" + row[1]\n",
    "        if row[0] not in new_dict and row[1] not in new_dict:\n",
    "            new_dict[temp] = \"(\" + temp + \": \" + str(row[2]) + \")\"\n",
    "        if row[0] in new_dict and row[1] not in new_dict:\n",
    "            new_dict[temp] = \"(\" + new_dict[row[0]] + ', ' + row[1] + ': ' + str(row[2]) + ')'\n",
    "        if row[1] in new_dict and row[0] not in new_dict:\n",
    "            new_dict[temp] = \"(\" + new_dict[row[1]] + ', ' + row[0] + ': ' + str(row[2]) + ')'\n",
    "        if row[0] in new_dict and row[1] in new_dict:\n",
    "            new_dict[temp] = \"(\" + new_dict[row[0]] + \", \" + new_dict[row[1]] + ': ' + str(row[2]) + \")\"\n",
    "\n",
    "    count = 0\n",
    "    for x in new_dict:\n",
    "        if count == len(new_dict)-1:\n",
    "            return (new_dict[x])\n",
    "        count += 1\n",
    "\n",
    "    return -1"
   ]
  },
  {
   "cell_type": "code",
   "execution_count": 9,
   "metadata": {},
   "outputs": [],
   "source": [
    "# saves the final answer in a file\n",
    "def export_answer(fname, content):\n",
    "    file = open(fname, \"w\")\n",
    "    file.write(content)\n",
    "    file.close()"
   ]
  },
  {
   "cell_type": "markdown",
   "metadata": {},
   "source": [
    "# Task - 1"
   ]
  },
  {
   "cell_type": "code",
   "execution_count": 10,
   "metadata": {
    "scrolled": true
   },
   "outputs": [],
   "source": [
    "ans1, mat1 = gen_tree(part_1(), 1)\n"
   ]
  },
  {
   "cell_type": "code",
   "execution_count": 11,
   "metadata": {
    "scrolled": true
   },
   "outputs": [
    {
     "output_type": "execute_result",
     "data": {
      "text/plain": "          0         1         2         3         4         5         6  \\\n0  0.000000  0.573975  0.673797  0.645276  0.632799  0.629234  0.650624   \n1  0.573975  0.000000  0.554367  0.527629  0.515152  0.527629  0.515152   \n2  0.673797  0.554367  0.000000  0.383244  0.376114  0.333333  0.354724   \n3  0.645276  0.527629  0.383244  0.000000  0.322638  0.352941  0.222816   \n4  0.632799  0.515152  0.376114  0.322638  0.000000  0.326203  0.301248   \n5  0.629234  0.527629  0.333333  0.352941  0.326203  0.000000  0.324421   \n6  0.650624  0.515152  0.354724  0.222816  0.301248  0.324421  0.000000   \n7  0.609626  0.502674  0.386809  0.352941  0.360071  0.270945  0.311943   \n8  0.677362  0.573975  0.363636  0.327986  0.345811  0.281640  0.288770   \n9  0.673797  0.541889  0.351159  0.253119  0.286988  0.335116  0.229947   \n\n          7         8         9  \n0  0.609626  0.677362  0.673797  \n1  0.502674  0.573975  0.541889  \n2  0.386809  0.363636  0.351159  \n3  0.352941  0.327986  0.253119  \n4  0.360071  0.345811  0.286988  \n5  0.270945  0.281640  0.335116  \n6  0.311943  0.288770  0.229947  \n7  0.000000  0.311943  0.342246  \n8  0.311943  0.000000  0.158645  \n9  0.342246  0.158645  0.000000  ",
      "text/html": "<div>\n<style scoped>\n    .dataframe tbody tr th:only-of-type {\n        vertical-align: middle;\n    }\n\n    .dataframe tbody tr th {\n        vertical-align: top;\n    }\n\n    .dataframe thead th {\n        text-align: right;\n    }\n</style>\n<table border=\"1\" class=\"dataframe\">\n  <thead>\n    <tr style=\"text-align: right;\">\n      <th></th>\n      <th>0</th>\n      <th>1</th>\n      <th>2</th>\n      <th>3</th>\n      <th>4</th>\n      <th>5</th>\n      <th>6</th>\n      <th>7</th>\n      <th>8</th>\n      <th>9</th>\n    </tr>\n  </thead>\n  <tbody>\n    <tr>\n      <th>0</th>\n      <td>0.000000</td>\n      <td>0.573975</td>\n      <td>0.673797</td>\n      <td>0.645276</td>\n      <td>0.632799</td>\n      <td>0.629234</td>\n      <td>0.650624</td>\n      <td>0.609626</td>\n      <td>0.677362</td>\n      <td>0.673797</td>\n    </tr>\n    <tr>\n      <th>1</th>\n      <td>0.573975</td>\n      <td>0.000000</td>\n      <td>0.554367</td>\n      <td>0.527629</td>\n      <td>0.515152</td>\n      <td>0.527629</td>\n      <td>0.515152</td>\n      <td>0.502674</td>\n      <td>0.573975</td>\n      <td>0.541889</td>\n    </tr>\n    <tr>\n      <th>2</th>\n      <td>0.673797</td>\n      <td>0.554367</td>\n      <td>0.000000</td>\n      <td>0.383244</td>\n      <td>0.376114</td>\n      <td>0.333333</td>\n      <td>0.354724</td>\n      <td>0.386809</td>\n      <td>0.363636</td>\n      <td>0.351159</td>\n    </tr>\n    <tr>\n      <th>3</th>\n      <td>0.645276</td>\n      <td>0.527629</td>\n      <td>0.383244</td>\n      <td>0.000000</td>\n      <td>0.322638</td>\n      <td>0.352941</td>\n      <td>0.222816</td>\n      <td>0.352941</td>\n      <td>0.327986</td>\n      <td>0.253119</td>\n    </tr>\n    <tr>\n      <th>4</th>\n      <td>0.632799</td>\n      <td>0.515152</td>\n      <td>0.376114</td>\n      <td>0.322638</td>\n      <td>0.000000</td>\n      <td>0.326203</td>\n      <td>0.301248</td>\n      <td>0.360071</td>\n      <td>0.345811</td>\n      <td>0.286988</td>\n    </tr>\n    <tr>\n      <th>5</th>\n      <td>0.629234</td>\n      <td>0.527629</td>\n      <td>0.333333</td>\n      <td>0.352941</td>\n      <td>0.326203</td>\n      <td>0.000000</td>\n      <td>0.324421</td>\n      <td>0.270945</td>\n      <td>0.281640</td>\n      <td>0.335116</td>\n    </tr>\n    <tr>\n      <th>6</th>\n      <td>0.650624</td>\n      <td>0.515152</td>\n      <td>0.354724</td>\n      <td>0.222816</td>\n      <td>0.301248</td>\n      <td>0.324421</td>\n      <td>0.000000</td>\n      <td>0.311943</td>\n      <td>0.288770</td>\n      <td>0.229947</td>\n    </tr>\n    <tr>\n      <th>7</th>\n      <td>0.609626</td>\n      <td>0.502674</td>\n      <td>0.386809</td>\n      <td>0.352941</td>\n      <td>0.360071</td>\n      <td>0.270945</td>\n      <td>0.311943</td>\n      <td>0.000000</td>\n      <td>0.311943</td>\n      <td>0.342246</td>\n    </tr>\n    <tr>\n      <th>8</th>\n      <td>0.677362</td>\n      <td>0.573975</td>\n      <td>0.363636</td>\n      <td>0.327986</td>\n      <td>0.345811</td>\n      <td>0.281640</td>\n      <td>0.288770</td>\n      <td>0.311943</td>\n      <td>0.000000</td>\n      <td>0.158645</td>\n    </tr>\n    <tr>\n      <th>9</th>\n      <td>0.673797</td>\n      <td>0.541889</td>\n      <td>0.351159</td>\n      <td>0.253119</td>\n      <td>0.286988</td>\n      <td>0.335116</td>\n      <td>0.229947</td>\n      <td>0.342246</td>\n      <td>0.158645</td>\n      <td>0.000000</td>\n    </tr>\n  </tbody>\n</table>\n</div>"
     },
     "metadata": {},
     "execution_count": 11
    }
   ],
   "source": [
    "mat1"
   ]
  },
  {
   "cell_type": "code",
   "execution_count": 12,
   "metadata": {},
   "outputs": [
    {
     "output_type": "execute_result",
     "data": {
      "text/plain": "'(((((((3,6: 0.111), (8,9: 0.079): 0.137), 4: 0.157), (5,7: 0.135): 0.167), 2: 0.182), 1: 0.269), 0: 0.307)'"
     },
     "metadata": {},
     "execution_count": 12
    }
   ],
   "source": [
    "c1 = convert_to_newick(ans1)\n",
    "c1"
   ]
  },
  {
   "cell_type": "code",
   "execution_count": 13,
   "metadata": {},
   "outputs": [],
   "source": [
    "export_answer(\"Ndistance_newick_form.txt\", c1)"
   ]
  },
  {
   "cell_type": "markdown",
   "metadata": {},
   "source": [
    "# Task - 2"
   ]
  },
  {
   "cell_type": "code",
   "execution_count": 14,
   "metadata": {
    "scrolled": false
   },
   "outputs": [],
   "source": [
    "ans2, mat2 = gen_tree(part_2(), 2)\n"
   ]
  },
  {
   "cell_type": "code",
   "execution_count": 15,
   "metadata": {},
   "outputs": [
    {
     "output_type": "execute_result",
     "data": {
      "text/plain": "     0    1    2    3    4    5    6    7    8    9\n0  589  168  255  221  201  200  194  212  210  214\n1  168  591  237  332  314  270  332  347  359  356\n2  255  237  579  331  346  333  302  331  330  326\n3  221  332  331  596  459  425  444  468  485  482\n4  201  314  346  459  583  499  423  480  487  484\n5  200  270  333  425  499  575  388  451  442  438\n6  194  332  302  444  423  388  575  455  481  478\n7  212  347  331  468  480  451  455  587  522  518\n8  210  359  330  485  487  442  481  522  591  584\n9  214  356  326  482  484  438  478  518  584  591",
      "text/html": "<div>\n<style scoped>\n    .dataframe tbody tr th:only-of-type {\n        vertical-align: middle;\n    }\n\n    .dataframe tbody tr th {\n        vertical-align: top;\n    }\n\n    .dataframe thead th {\n        text-align: right;\n    }\n</style>\n<table border=\"1\" class=\"dataframe\">\n  <thead>\n    <tr style=\"text-align: right;\">\n      <th></th>\n      <th>0</th>\n      <th>1</th>\n      <th>2</th>\n      <th>3</th>\n      <th>4</th>\n      <th>5</th>\n      <th>6</th>\n      <th>7</th>\n      <th>8</th>\n      <th>9</th>\n    </tr>\n  </thead>\n  <tbody>\n    <tr>\n      <th>0</th>\n      <td>589</td>\n      <td>168</td>\n      <td>255</td>\n      <td>221</td>\n      <td>201</td>\n      <td>200</td>\n      <td>194</td>\n      <td>212</td>\n      <td>210</td>\n      <td>214</td>\n    </tr>\n    <tr>\n      <th>1</th>\n      <td>168</td>\n      <td>591</td>\n      <td>237</td>\n      <td>332</td>\n      <td>314</td>\n      <td>270</td>\n      <td>332</td>\n      <td>347</td>\n      <td>359</td>\n      <td>356</td>\n    </tr>\n    <tr>\n      <th>2</th>\n      <td>255</td>\n      <td>237</td>\n      <td>579</td>\n      <td>331</td>\n      <td>346</td>\n      <td>333</td>\n      <td>302</td>\n      <td>331</td>\n      <td>330</td>\n      <td>326</td>\n    </tr>\n    <tr>\n      <th>3</th>\n      <td>221</td>\n      <td>332</td>\n      <td>331</td>\n      <td>596</td>\n      <td>459</td>\n      <td>425</td>\n      <td>444</td>\n      <td>468</td>\n      <td>485</td>\n      <td>482</td>\n    </tr>\n    <tr>\n      <th>4</th>\n      <td>201</td>\n      <td>314</td>\n      <td>346</td>\n      <td>459</td>\n      <td>583</td>\n      <td>499</td>\n      <td>423</td>\n      <td>480</td>\n      <td>487</td>\n      <td>484</td>\n    </tr>\n    <tr>\n      <th>5</th>\n      <td>200</td>\n      <td>270</td>\n      <td>333</td>\n      <td>425</td>\n      <td>499</td>\n      <td>575</td>\n      <td>388</td>\n      <td>451</td>\n      <td>442</td>\n      <td>438</td>\n    </tr>\n    <tr>\n      <th>6</th>\n      <td>194</td>\n      <td>332</td>\n      <td>302</td>\n      <td>444</td>\n      <td>423</td>\n      <td>388</td>\n      <td>575</td>\n      <td>455</td>\n      <td>481</td>\n      <td>478</td>\n    </tr>\n    <tr>\n      <th>7</th>\n      <td>212</td>\n      <td>347</td>\n      <td>331</td>\n      <td>468</td>\n      <td>480</td>\n      <td>451</td>\n      <td>455</td>\n      <td>587</td>\n      <td>522</td>\n      <td>518</td>\n    </tr>\n    <tr>\n      <th>8</th>\n      <td>210</td>\n      <td>359</td>\n      <td>330</td>\n      <td>485</td>\n      <td>487</td>\n      <td>442</td>\n      <td>481</td>\n      <td>522</td>\n      <td>591</td>\n      <td>584</td>\n    </tr>\n    <tr>\n      <th>9</th>\n      <td>214</td>\n      <td>356</td>\n      <td>326</td>\n      <td>482</td>\n      <td>484</td>\n      <td>438</td>\n      <td>478</td>\n      <td>518</td>\n      <td>584</td>\n      <td>591</td>\n    </tr>\n  </tbody>\n</table>\n</div>"
     },
     "metadata": {},
     "execution_count": 15
    }
   ],
   "source": [
    "mat2"
   ]
  },
  {
   "cell_type": "code",
   "execution_count": 16,
   "metadata": {},
   "outputs": [
    {
     "output_type": "execute_result",
     "data": {
      "text/plain": "'((((((((8,9: 292.000), 7: 260.000), 3: 237.875), 6: 227.812), (4,5: 249.500): 214.641), 2: 163.906), 1: 137.883), 0: 99.234)'"
     },
     "metadata": {},
     "execution_count": 16
    }
   ],
   "source": [
    "c2 = convert_to_newick(ans2)\n",
    "c2"
   ]
  },
  {
   "cell_type": "code",
   "execution_count": 17,
   "metadata": {},
   "outputs": [],
   "source": [
    "export_answer(\"Pdistance_newick_form.txt\", c2)"
   ]
  }
 ],
 "metadata": {
  "kernelspec": {
   "display_name": "Python 3",
   "language": "python",
   "name": "python3"
  },
  "language_info": {
   "codemirror_mode": {
    "name": "ipython",
    "version": 3
   },
   "file_extension": ".py",
   "mimetype": "text/x-python",
   "name": "python",
   "nbconvert_exporter": "python",
   "pygments_lexer": "ipython3",
   "version": "3.8.5-final"
  }
 },
 "nbformat": 4,
 "nbformat_minor": 2
}