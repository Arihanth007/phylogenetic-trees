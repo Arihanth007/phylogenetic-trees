{
 "cells": [
  {
   "cell_type": "code",
   "execution_count": 1,
   "metadata": {},
   "outputs": [],
   "source": [
    "import re\n",
    "import numpy as np"
   ]
  },
  {
   "cell_type": "code",
   "execution_count": 2,
   "metadata": {},
   "outputs": [],
   "source": [
    "fname = \"Nucleotide_alignment.txt\"\n",
    "\n",
    "seqs = open(fname, \"r\")\n",
    "ar1 = np.loadtxt(fname, delimiter=\"\\t\", dtype='str')"
   ]
  },
  {
   "cell_type": "code",
   "execution_count": 3,
   "metadata": {},
   "outputs": [],
   "source": [
    "def print_matrix(mat):\n",
    "    for i in range(len(mat)):\n",
    "        print(mat[i])"
   ]
  },
  {
   "cell_type": "code",
   "execution_count": 4,
   "metadata": {},
   "outputs": [],
   "source": [
    "def convert_to_seq(ar):\n",
    "    dna = []\n",
    "    number_of_items = 0\n",
    "    for i in range(ar.shape[0]):\n",
    "        if ar[i][0] != \">\":\n",
    "            dna.append([ar[i][j] for j in range(len(ar[i]))])\n",
    "        else:\n",
    "            number_of_items += 1\n",
    "    return np.array(dna), number_of_items"
   ]
  },
  {
   "cell_type": "code",
   "execution_count": 5,
   "metadata": {},
   "outputs": [],
   "source": [
    " def form_complete_seq(dna, n):\n",
    "    final = []\n",
    "    start = 0\n",
    "    inc = int(len(dna) / n)\n",
    "    end = inc\n",
    "\n",
    "    while end <= dna.shape[0]:\n",
    "        temp = []\n",
    "        for i in range(start, end):\n",
    "            for j in range(len(dna[i])):\n",
    "                temp.append(dna[i][j])\n",
    "        temp = np.array(temp)\n",
    "        final.append(temp)\n",
    "        start = start + inc\n",
    "        end = end + inc\n",
    "\n",
    "    return np.array(final)"
   ]
  },
  {
   "cell_type": "code",
   "execution_count": 6,
   "metadata": {},
   "outputs": [],
   "source": [
    " def generate_dist_matrix(final, k):\n",
    "    mat = [[0 for i in range(k)] for j in range(k)]\n",
    "\n",
    "    def find_dist(m, n):\n",
    "        count = 0\n",
    "        for i in range(len(final[0])):\n",
    "            if final[m][i] != final[n][i]:\n",
    "                count += 1\n",
    "        count /= len(final[0])\n",
    "        return count\n",
    "\n",
    "    for x in range(k):\n",
    "        for y in range(k):\n",
    "            mat[x][y] = find_dist(x, y)\n",
    "\n",
    "    return mat"
   ]
  },
  {
   "cell_type": "code",
   "execution_count": 7,
   "metadata": {
    "tags": []
   },
   "outputs": [
    {
     "name": "stdout",
     "output_type": "stream",
     "text": [
      "[0.0, 0.5739750445632799, 0.6737967914438503, 0.6452762923351159, 0.6327985739750446, 0.6292335115864528, 0.6506238859180036, 0.6096256684491979, 0.6773618538324421, 0.6737967914438503]\n",
      "[0.5739750445632799, 0.0, 0.5543672014260249, 0.5276292335115864, 0.5151515151515151, 0.5276292335115864, 0.5151515151515151, 0.5026737967914439, 0.5739750445632799, 0.5418894830659536]\n",
      "[0.6737967914438503, 0.5543672014260249, 0.0, 0.38324420677361853, 0.3761140819964349, 0.3333333333333333, 0.35472370766488415, 0.3868092691622103, 0.36363636363636365, 0.3511586452762923]\n",
      "[0.6452762923351159, 0.5276292335115864, 0.38324420677361853, 0.0, 0.3226381461675579, 0.35294117647058826, 0.22281639928698752, 0.35294117647058826, 0.32798573975044565, 0.2531194295900178]\n",
      "[0.6327985739750446, 0.5151515151515151, 0.3761140819964349, 0.3226381461675579, 0.0, 0.32620320855614976, 0.30124777183600715, 0.3600713012477718, 0.34581105169340465, 0.28698752228163993]\n",
      "[0.6292335115864528, 0.5276292335115864, 0.3333333333333333, 0.35294117647058826, 0.32620320855614976, 0.0, 0.3244206773618538, 0.2709447415329768, 0.2816399286987522, 0.33511586452762926]\n",
      "[0.6506238859180036, 0.5151515151515151, 0.35472370766488415, 0.22281639928698752, 0.30124777183600715, 0.3244206773618538, 0.0, 0.31194295900178254, 0.2887700534759358, 0.22994652406417113]\n",
      "[0.6096256684491979, 0.5026737967914439, 0.3868092691622103, 0.35294117647058826, 0.3600713012477718, 0.2709447415329768, 0.31194295900178254, 0.0, 0.31194295900178254, 0.3422459893048128]\n",
      "[0.6773618538324421, 0.5739750445632799, 0.36363636363636365, 0.32798573975044565, 0.34581105169340465, 0.2816399286987522, 0.2887700534759358, 0.31194295900178254, 0.0, 0.1586452762923351]\n",
      "[0.6737967914438503, 0.5418894830659536, 0.3511586452762923, 0.2531194295900178, 0.28698752228163993, 0.33511586452762926, 0.22994652406417113, 0.3422459893048128, 0.1586452762923351, 0.0]\n"
     ]
    }
   ],
   "source": [
    "p1, n = convert_to_seq(ar1)\n",
    "p2 = form_complete_seq(p1, n)\n",
    "dist_matrix = generate_dist_matrix(p2, n)\n",
    "\n",
    "print_matrix(dist_matrix)"
   ]
  },
  {
   "cell_type": "code",
   "execution_count": 8,
   "metadata": {
    "tags": []
   },
   "outputs": [],
   "source": [
    "# p1, n = convert_to_seq(ar2)"
   ]
  },
  {
   "cell_type": "code",
   "execution_count": 9,
   "metadata": {
    "tags": []
   },
   "outputs": [],
   "source": [
    "# print(len(p1), n)"
   ]
  },
  {
   "cell_type": "code",
   "execution_count": null,
   "metadata": {},
   "outputs": [],
   "source": []
  }
 ],
 "metadata": {
  "kernelspec": {
   "display_name": "Python 3",
   "language": "python",
   "name": "python3"
  },
  "language_info": {
   "codemirror_mode": {
    "name": "ipython",
    "version": 3
   },
   "file_extension": ".py",
   "mimetype": "text/x-python",
   "name": "python",
   "nbconvert_exporter": "python",
   "pygments_lexer": "ipython3",
   "version": "3.8.5"
  }
 },
 "nbformat": 4,
 "nbformat_minor": 2
}
