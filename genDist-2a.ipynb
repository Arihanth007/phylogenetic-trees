{
 "cells": [
  {
   "cell_type": "code",
   "execution_count": 1,
   "metadata": {},
   "outputs": [],
   "source": [
    "import re\n",
    "import numpy as np\n",
    "import pandas as pd"
   ]
  },
  {
   "cell_type": "code",
   "execution_count": 2,
   "metadata": {},
   "outputs": [],
   "source": [
    "fname = \"Protein_alignment.txt\"\n",
    "fname2 = \"BLOSUM62.txt\"\n",
    "ar2 = np.loadtxt(fname, delimiter=\"\\t\", dtype='str')\n",
    "ar3 = np.loadtxt(fname2, dtype='str')"
   ]
  },
  {
   "cell_type": "code",
   "execution_count": 3,
   "metadata": {},
   "outputs": [],
   "source": [
    "def print_matrix(mat):\n",
    "    for i in range(len(mat)):\n",
    "        print(mat[i])"
   ]
  },
  {
   "cell_type": "code",
   "execution_count": 4,
   "metadata": {},
   "outputs": [],
   "source": [
    "def convert_to_seq(ar):\n",
    "    dna = []\n",
    "    number_of_items = 0\n",
    "    for i in range(ar.shape[0]):\n",
    "        if ar[i][0] != \">\":\n",
    "            dna.append([ar[i][j] for j in range(len(ar[i]))])\n",
    "        else:\n",
    "            number_of_items += 1\n",
    "    return np.array(dna), number_of_items"
   ]
  },
  {
   "cell_type": "code",
   "execution_count": 5,
   "metadata": {},
   "outputs": [],
   "source": [
    " def form_complete_seq(dna, n):\n",
    "    final = []\n",
    "    start = 0\n",
    "    inc = int(len(dna) / n)\n",
    "    end = inc\n",
    "\n",
    "    while end <= dna.shape[0]:\n",
    "        temp = []\n",
    "        for i in range(start, end):\n",
    "            for j in range(len(dna[i])):\n",
    "                temp.append(dna[i][j])\n",
    "        temp = np.array(temp)\n",
    "        final.append(temp)\n",
    "        start = start + inc\n",
    "        end = end + inc\n",
    "\n",
    "    return np.array(final)"
   ]
  },
  {
   "cell_type": "code",
   "execution_count": 6,
   "metadata": {},
   "outputs": [],
   "source": [
    "def find_score(a, b, dmat):\n",
    "    x = 0\n",
    "    y = 0\n",
    "    if a == \"-\":\n",
    "        a = \"*\"\n",
    "    if b == \"-\":\n",
    "        b = \"*\"\n",
    "    for i in range(dmat.shape[0]):\n",
    "        if a == dmat[0][i]:\n",
    "            x = i\n",
    "        if b == dmat[0][i]:\n",
    "            y = i\n",
    "    return dmat[x][y]"
   ]
  },
  {
   "cell_type": "code",
   "execution_count": 7,
   "metadata": {},
   "outputs": [],
   "source": [
    "def find_dist(m, n, final, dmat):\n",
    "    # here m, n = seq1, seq2\n",
    "    count = 0\n",
    "    t = min(len(final[m]), len(final[n]))\n",
    "    left = max(len(final[m]), len(final[n])) - t\n",
    "\n",
    "    for i in range(t):\n",
    "        temp = find_score(final[m][i], final[n][i], dmat)\n",
    "        count += int(temp)\n",
    "    count += (left*(-4))\n",
    "    \n",
    "    return count"
   ]
  },
  {
   "cell_type": "code",
   "execution_count": 8,
   "metadata": {},
   "outputs": [],
   "source": [
    " def generate_dist_matrix(final, k, dmat):\n",
    "    mat = [[0 for i in range(k)] for j in range(k)]\n",
    "\n",
    "    # here x, y = seq1, seq2\n",
    "    for x in range(k):\n",
    "        for y in range(k):\n",
    "            mat[x][y] = find_dist(x, y, final, dmat)\n",
    "            \n",
    "    return np.array(mat)"
   ]
  },
  {
   "cell_type": "code",
   "execution_count": 9,
   "metadata": {
    "scrolled": true,
    "tags": []
   },
   "outputs": [
    {
     "name": "stderr",
     "output_type": "stream",
     "text": [
      "<ipython-input-4-7e6695ddb7d4>:9: VisibleDeprecationWarning: Creating an ndarray from ragged nested sequences (which is a list-or-tuple of lists-or-tuples-or ndarrays with different lengths or shapes) is deprecated. If you meant to do this, you must specify 'dtype=object' when creating the ndarray\n",
      "  return np.array(dna), number_of_items\n"
     ]
    },
    {
     "name": "stdout",
     "output_type": "stream",
     "text": [
      "[589 168 255 221 201 200 194 212 210 214]\n",
      "[168 591 237 332 314 270 332 347 359 356]\n",
      "[255 237 579 331 346 333 302 331 330 326]\n",
      "[221 332 331 596 459 425 444 468 485 482]\n",
      "[201 314 346 459 583 499 423 480 487 484]\n",
      "[200 270 333 425 499 575 388 451 442 438]\n",
      "[194 332 302 444 423 388 575 455 481 478]\n",
      "[212 347 331 468 480 451 455 587 522 518]\n",
      "[210 359 330 485 487 442 481 522 591 584]\n",
      "[214 356 326 482 484 438 478 518 584 591]\n"
     ]
    }
   ],
   "source": [
    "dmat, m = convert_to_seq(ar3)\n",
    "\n",
    "p1, n = convert_to_seq(ar2)\n",
    "p2 = form_complete_seq(p1, n)\n",
    "dist_matrix = generate_dist_matrix(p2, n, dmat)\n",
    "\n",
    "print_matrix(dist_matrix)"
   ]
  },
  {
   "cell_type": "code",
   "execution_count": 18,
   "metadata": {},
   "outputs": [],
   "source": [
    "res = {idx + 1 : dist_matrix[idx] for idx in range(len(dist_matrix))} "
   ]
  },
  {
   "cell_type": "code",
   "execution_count": 11,
   "metadata": {},
   "outputs": [],
   "source": [
    "# dist_matrix.tofile('Ndistance.txt',sep=',')"
   ]
  },
  {
   "cell_type": "code",
   "execution_count": 20,
   "metadata": {},
   "outputs": [],
   "source": [
    "pd.DataFrame(res).to_csv(\"Pdistance.txt\")"
   ]
  },
  {
   "cell_type": "code",
   "execution_count": null,
   "metadata": {},
   "outputs": [],
   "source": []
  }
 ],
 "metadata": {
  "kernelspec": {
   "display_name": "Python 3",
   "language": "python",
   "name": "python3"
  },
  "language_info": {
   "codemirror_mode": {
    "name": "ipython",
    "version": 3
   },
   "file_extension": ".py",
   "mimetype": "text/x-python",
   "name": "python",
   "nbconvert_exporter": "python",
   "pygments_lexer": "ipython3",
   "version": "3.8.5"
  }
 },
 "nbformat": 4,
 "nbformat_minor": 2
}
